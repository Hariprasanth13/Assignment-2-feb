{
 "cells": [
  {
   "cell_type": "markdown",
   "id": "256b2532-188b-46fc-8f4e-a2bc8143d0a0",
   "metadata": {},
   "source": [
    "1.Tuples are ordered, immutable and it may contain mutiple data types\n",
    "Syntax: data=(1,2,'Hari')\n",
    "\n",
    "2. Two methods are count and index."
   ]
  },
  {
   "cell_type": "code",
   "execution_count": 3,
   "id": "f23ed7ef-afda-4208-b32a-1ee392977066",
   "metadata": {},
   "outputs": [],
   "source": [
    "test=(1,2,'Hari')"
   ]
  },
  {
   "cell_type": "code",
   "execution_count": 7,
   "id": "9cc83a81-1cc1-4930-b7b2-055d52a1c8ac",
   "metadata": {},
   "outputs": [
    {
     "data": {
      "text/plain": [
       "1"
      ]
     },
     "execution_count": 7,
     "metadata": {},
     "output_type": "execute_result"
    }
   ],
   "source": [
    "test.count(1)"
   ]
  },
  {
   "cell_type": "code",
   "execution_count": 8,
   "id": "e9aabe0f-3d05-4c0a-9d35-2b61d0f15b74",
   "metadata": {},
   "outputs": [
    {
     "data": {
      "text/plain": [
       "2"
      ]
     },
     "execution_count": 8,
     "metadata": {},
     "output_type": "execute_result"
    }
   ],
   "source": [
    "test.index('Hari')"
   ]
  },
  {
   "cell_type": "markdown",
   "id": "0a9bf55f-4dba-48b9-bf9a-18dfb507b8df",
   "metadata": {},
   "source": [
    "3. Set does not allow duplicates in python"
   ]
  },
  {
   "cell_type": "code",
   "execution_count": 10,
   "id": "b292b278-1b45-4faa-871b-b325c5b3e874",
   "metadata": {},
   "outputs": [],
   "source": [
    "list1=[1, 1, 1, 2, 1, 3, 1, 4, 2, 1, 2, 2, 2, 3, 2, 4, 3, 1, 3, 2, 3, 3, 3, 4, 4, 1, 4, 2, 4, 3, 4, 4]"
   ]
  },
  {
   "cell_type": "code",
   "execution_count": 11,
   "id": "32ebc076-eccf-472c-b4df-46fcf5f3f115",
   "metadata": {},
   "outputs": [],
   "source": [
    "set1=set(list1)"
   ]
  },
  {
   "cell_type": "code",
   "execution_count": 12,
   "id": "830ea838-bb16-4319-bd22-ddedeac5d231",
   "metadata": {},
   "outputs": [
    {
     "data": {
      "text/plain": [
       "{1, 2, 3, 4}"
      ]
     },
     "execution_count": 12,
     "metadata": {},
     "output_type": "execute_result"
    }
   ],
   "source": [
    "set1"
   ]
  },
  {
   "cell_type": "markdown",
   "id": "b6773906-7d4a-42e2-903e-129fbf0b7c61",
   "metadata": {},
   "source": [
    "4.set1.union - provides a union of two sets(combines two set values)\n",
    "Here the set1 is updated with the final result"
   ]
  },
  {
   "cell_type": "code",
   "execution_count": 15,
   "id": "fa05d3a8-39de-46c3-80e7-35bcda95fe53",
   "metadata": {},
   "outputs": [],
   "source": [
    "set2 ={1,3,4,5}\n"
   ]
  },
  {
   "cell_type": "code",
   "execution_count": 16,
   "id": "b41691b5-0a55-46b7-bf71-f4429dab77c8",
   "metadata": {},
   "outputs": [
    {
     "data": {
      "text/plain": [
       "{1, 2, 3, 4, 5}"
      ]
     },
     "execution_count": 16,
     "metadata": {},
     "output_type": "execute_result"
    }
   ],
   "source": [
    "set1.union(set2)"
   ]
  },
  {
   "cell_type": "code",
   "execution_count": 17,
   "id": "0ab47e7e-a705-49d2-b8a9-e6f2a118aa15",
   "metadata": {},
   "outputs": [
    {
     "data": {
      "text/plain": [
       "{1, 2, 3, 4}"
      ]
     },
     "execution_count": 17,
     "metadata": {},
     "output_type": "execute_result"
    }
   ],
   "source": [
    "set1"
   ]
  },
  {
   "cell_type": "markdown",
   "id": "6f503bd1-017c-46ae-ab21-d16e39192b26",
   "metadata": {},
   "source": [
    "In case of update the set1 and set2 are combined and final result is stored in set1"
   ]
  },
  {
   "cell_type": "code",
   "execution_count": 19,
   "id": "1d4cbbb8-e993-42d9-b03d-c53800ef4087",
   "metadata": {},
   "outputs": [],
   "source": [
    "set1.update(set2)"
   ]
  },
  {
   "cell_type": "code",
   "execution_count": 20,
   "id": "e6158eef-16e0-4bc6-9a9b-67dfa2d87c12",
   "metadata": {},
   "outputs": [
    {
     "data": {
      "text/plain": [
       "{1, 2, 3, 4, 5}"
      ]
     },
     "execution_count": 20,
     "metadata": {},
     "output_type": "execute_result"
    }
   ],
   "source": [
    "set1"
   ]
  },
  {
   "cell_type": "markdown",
   "id": "4d03b7f7-f932-49f7-9971-bc629b7e618e",
   "metadata": {},
   "source": [
    "5.A dictionary is a set of key value pairs. Dictionary is unordered"
   ]
  },
  {
   "cell_type": "code",
   "execution_count": 21,
   "id": "58b22b3c-5ec3-4e0b-bebc-5675cbffc2ab",
   "metadata": {},
   "outputs": [],
   "source": [
    "dic={'name':'Hari','age':27}"
   ]
  },
  {
   "cell_type": "code",
   "execution_count": 22,
   "id": "400851e7-cda6-43ed-95db-777189a9c3bb",
   "metadata": {},
   "outputs": [
    {
     "data": {
      "text/plain": [
       "{'name': 'Hari', 'age': 27}"
      ]
     },
     "execution_count": 22,
     "metadata": {},
     "output_type": "execute_result"
    }
   ],
   "source": [
    "dic"
   ]
  },
  {
   "cell_type": "markdown",
   "id": "582eb173-c135-4b01-b434-9295a12c03f2",
   "metadata": {},
   "source": [
    "6. Nested dictionary - yes we can create nested dictionary"
   ]
  },
  {
   "cell_type": "code",
   "execution_count": 23,
   "id": "4ec02769-42f8-4ce6-8f85-80a97d477ed9",
   "metadata": {},
   "outputs": [],
   "source": [
    "dic1={'name':'Hari','age':27, 'designation':{'major_role':'BA','minor_role':'SM'}}"
   ]
  },
  {
   "cell_type": "code",
   "execution_count": 24,
   "id": "d5c1019c-b674-4e7e-b6f8-2075305fac22",
   "metadata": {},
   "outputs": [
    {
     "data": {
      "text/plain": [
       "{'name': 'Hari',\n",
       " 'age': 27,\n",
       " 'designation': {'major_role': 'BA', 'minor_role': 'SM'}}"
      ]
     },
     "execution_count": 24,
     "metadata": {},
     "output_type": "execute_result"
    }
   ],
   "source": [
    "dic1"
   ]
  },
  {
   "cell_type": "markdown",
   "id": "9c6a94b0-b87f-482d-983b-0585c37c73d3",
   "metadata": {},
   "source": [
    "7"
   ]
  },
  {
   "cell_type": "code",
   "execution_count": 25,
   "id": "468eae58-1c8c-410a-b7f9-c9b658945595",
   "metadata": {},
   "outputs": [],
   "source": [
    "dict2 = {'language' : 'Python', 'course': 'Data Science Masters'}"
   ]
  },
  {
   "cell_type": "code",
   "execution_count": 32,
   "id": "b1a704c6-cfa2-44c9-a25c-8209eb0cfdf6",
   "metadata": {},
   "outputs": [
    {
     "data": {
      "text/plain": [
       "['Python', 'Machine Learning', 'Deep Learning']"
      ]
     },
     "execution_count": 32,
     "metadata": {},
     "output_type": "execute_result"
    }
   ],
   "source": [
    "dict2.setdefault('Topic',[\"Python\", \"Machine Learning\", \"Deep Learning\"])"
   ]
  },
  {
   "cell_type": "markdown",
   "id": "3d751e7c-42cf-4f36-81a0-37703a99e7d9",
   "metadata": {},
   "source": [
    "8"
   ]
  },
  {
   "cell_type": "code",
   "execution_count": 33,
   "id": "2d4e2204-1f62-4beb-9d32-21dba02c1271",
   "metadata": {},
   "outputs": [],
   "source": [
    "dict3 = {'Sport': 'Cricket' , 'Teams': ['India', 'Australia', 'England', 'South Africa', 'Sri Lanka', 'New Zealand']}"
   ]
  },
  {
   "cell_type": "code",
   "execution_count": 34,
   "id": "b9c2ea28-30af-4050-a5e8-cbc932a40bad",
   "metadata": {},
   "outputs": [
    {
     "data": {
      "text/plain": [
       "{'Sport': 'Cricket',\n",
       " 'Teams': ['India',\n",
       "  'Australia',\n",
       "  'England',\n",
       "  'South Africa',\n",
       "  'Sri Lanka',\n",
       "  'New Zealand']}"
      ]
     },
     "execution_count": 34,
     "metadata": {},
     "output_type": "execute_result"
    }
   ],
   "source": [
    "dict3"
   ]
  },
  {
   "cell_type": "markdown",
   "id": "25f2cd2d-bc90-43d1-8cd4-021a720516ac",
   "metadata": {},
   "source": [
    "The three view objects in dictionary are key, value and items"
   ]
  },
  {
   "cell_type": "code",
   "execution_count": 37,
   "id": "1c8a98c7-3406-4986-baf3-10c608f9fd21",
   "metadata": {},
   "outputs": [],
   "source": [
    "keys=dict3.keys()"
   ]
  },
  {
   "cell_type": "code",
   "execution_count": 38,
   "id": "ca144040-905b-4666-b11e-ef5827e976ab",
   "metadata": {},
   "outputs": [
    {
     "data": {
      "text/plain": [
       "dict_keys(['Sport', 'Teams'])"
      ]
     },
     "execution_count": 38,
     "metadata": {},
     "output_type": "execute_result"
    }
   ],
   "source": [
    "keys"
   ]
  },
  {
   "cell_type": "code",
   "execution_count": 39,
   "id": "502e90a8-3b0a-49fd-9742-31429fd02703",
   "metadata": {},
   "outputs": [],
   "source": [
    "values=dict3.values()"
   ]
  },
  {
   "cell_type": "code",
   "execution_count": 40,
   "id": "a7a9de75-e643-43cb-a29e-30bbb3cde562",
   "metadata": {},
   "outputs": [
    {
     "data": {
      "text/plain": [
       "dict_values(['Cricket', ['India', 'Australia', 'England', 'South Africa', 'Sri Lanka', 'New Zealand']])"
      ]
     },
     "execution_count": 40,
     "metadata": {},
     "output_type": "execute_result"
    }
   ],
   "source": [
    "values"
   ]
  },
  {
   "cell_type": "code",
   "execution_count": 41,
   "id": "e4bf18be-5a3d-4189-b244-cb4aedd651d6",
   "metadata": {},
   "outputs": [],
   "source": [
    "items=dict3.items()"
   ]
  },
  {
   "cell_type": "code",
   "execution_count": 42,
   "id": "a517b015-1f18-49c9-ba74-094841b96d04",
   "metadata": {},
   "outputs": [
    {
     "data": {
      "text/plain": [
       "dict_items([('Sport', 'Cricket'), ('Teams', ['India', 'Australia', 'England', 'South Africa', 'Sri Lanka', 'New Zealand'])])"
      ]
     },
     "execution_count": 42,
     "metadata": {},
     "output_type": "execute_result"
    }
   ],
   "source": [
    "items"
   ]
  },
  {
   "cell_type": "code",
   "execution_count": null,
   "id": "28f824e3-0c68-4ece-93ac-c182bfe13908",
   "metadata": {},
   "outputs": [],
   "source": []
  }
 ],
 "metadata": {
  "kernelspec": {
   "display_name": "Python 3 (ipykernel)",
   "language": "python",
   "name": "python3"
  },
  "language_info": {
   "codemirror_mode": {
    "name": "ipython",
    "version": 3
   },
   "file_extension": ".py",
   "mimetype": "text/x-python",
   "name": "python",
   "nbconvert_exporter": "python",
   "pygments_lexer": "ipython3",
   "version": "3.10.8"
  }
 },
 "nbformat": 4,
 "nbformat_minor": 5
}
